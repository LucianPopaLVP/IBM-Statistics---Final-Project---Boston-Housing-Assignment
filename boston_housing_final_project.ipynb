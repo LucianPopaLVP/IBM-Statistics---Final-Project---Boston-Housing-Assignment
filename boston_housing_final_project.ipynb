{
  "cells": [
    {
      "cell_type": "markdown",
      "metadata": {
        "id": "view-in-github",
        "colab_type": "text"
      },
      "source": [
        "<a href=\"https://colab.research.google.com/github/LucianPopaLVP/IBM-Statistics---Final-Project---Boston-Housing-Assignment/blob/main/boston_housing_final_project.ipynb\" target=\"_parent\"><img src=\"https://colab.research.google.com/assets/colab-badge.svg\" alt=\"Open In Colab\"/></a>"
      ]
    },
    {
      "cell_type": "markdown",
      "source": [
        "## Project Case Scenario\n",
        "\n",
        "Project Scenario: You are a Data Scientist with a housing agency in Boston MA, you have been given access to a previous dataset on housing prices derived from the U.S. Census Service to present insights to higher management. Based on your experience in Statistics, what information can you provide them to help with making an informed decision? Upper management will like to get some insight into the following.\n",
        "\n",
        "Is there a significant difference in the median value of houses bounded by the Charles river or not?\n",
        "\n",
        "Is there a difference in median values of houses of each proportion of owner-occupied units built before 1940?\n",
        "\n",
        "Can we conclude that there is no relationship between Nitric oxide concentrations and the proportion of non-retail business acres per town?\n",
        "\n",
        "What is the impact of an additional weighted distance to the five Boston employment centres on the median value of owner-occupied homes?\n",
        "\n",
        "Using the appropriate graphs and charts, generate basic statistics and visualizations that you think will be useful for the upper management to give them important insight given the question they are asking, in your graphs, include an explanation of each statistic. "
      ],
      "metadata": {
        "id": "Pla2yms82dFN"
      },
      "id": "Pla2yms82dFN"
    },
    {
      "cell_type": "markdown",
      "source": [
        "## Overview of Project Tasks"
      ],
      "metadata": {
        "id": "RsbfFQ8p3Azq"
      },
      "id": "RsbfFQ8p3Azq"
    },
    {
      "cell_type": "markdown",
      "source": [
        "Final Project: For the project scenario, here is an overview of your tasks. The following reading sections will provide you with detailed instructions for each task.\n",
        "\n",
        "Project Tasks:\n",
        "\n",
        "Task 1: Familiarize yourself with the dataset \n",
        "\n",
        "Task 2: (Optional) If you do not already have an instance of Watson Studio, create an IBM Cloud Lite account and provision an instance of Waston Studio.\n",
        "\n",
        "Task 3: Load the dataset in a Jupyter Notebook using Watson Studio.\n",
        "\n",
        "Task 4: Generate basic statistics and visualizations for upper management. \n",
        "\n",
        "Task 5: Use the appropriate tests to answer the questions provided.\n",
        "\n",
        "Task 6: Share your Jupyter Notebook."
      ],
      "metadata": {
        "id": "izqoIkos3Dq_"
      },
      "id": "izqoIkos3Dq_"
    },
    {
      "cell_type": "markdown",
      "source": [
        "## Task 1: Become familiar with the dataset"
      ],
      "metadata": {
        "id": "e7FgSKlr3KWg"
      },
      "id": "e7FgSKlr3KWg"
    },
    {
      "cell_type": "code",
      "source": [
        ""
      ],
      "metadata": {
        "id": "6MYyqEgC2gTO"
      },
      "id": "6MYyqEgC2gTO",
      "execution_count": null,
      "outputs": []
    }
  ],
  "metadata": {
    "kernelspec": {
      "display_name": "Python 3 (ipykernel)",
      "language": "python",
      "name": "python3"
    },
    "language_info": {
      "codemirror_mode": {
        "name": "ipython",
        "version": 3
      },
      "file_extension": ".py",
      "mimetype": "text/x-python",
      "name": "python",
      "nbconvert_exporter": "python",
      "pygments_lexer": "ipython3",
      "version": "3.8.12"
    },
    "colab": {
      "name": "boston-housing-final-project.ipynb",
      "provenance": [],
      "include_colab_link": true
    }
  },
  "nbformat": 4,
  "nbformat_minor": 5
}