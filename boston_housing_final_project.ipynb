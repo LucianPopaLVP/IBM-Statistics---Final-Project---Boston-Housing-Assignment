{
  "cells": [
    {
      "cell_type": "markdown",
      "metadata": {
        "id": "view-in-github",
        "colab_type": "text"
      },
      "source": [
        "<a href=\"https://colab.research.google.com/github/LucianPopaLVP/IBM-Statistics---Final-Project---Boston-Housing-Assignment/blob/main/boston_housing_final_project.ipynb\" target=\"_parent\"><img src=\"https://colab.research.google.com/assets/colab-badge.svg\" alt=\"Open In Colab\"/></a>"
      ]
    },
    {
      "cell_type": "markdown",
      "source": [
        "## Project Case Scenario\n",
        "\n"
      ],
      "metadata": {
        "id": "Pla2yms82dFN"
      },
      "id": "Pla2yms82dFN"
    },
    {
      "cell_type": "markdown",
      "source": [
        "Project Scenario: You are a Data Scientist with a housing agency in Boston MA, you have been given access to a previous dataset on housing prices derived from the U.S. Census Service to present insights to higher management. Based on your experience in Statistics, what information can you provide them to help with making an informed decision? Upper management will like to get some insight into the following.\n",
        "\n",
        "Is there a significant difference in the median value of houses bounded by the Charles river or not?\n",
        "\n",
        "Is there a difference in median values of houses of each proportion of owner-occupied units built before 1940?\n",
        "\n",
        "Can we conclude that there is no relationship between Nitric oxide concentrations and the proportion of non-retail business acres per town?\n",
        "\n",
        "What is the impact of an additional weighted distance to the five Boston employment centres on the median value of owner-occupied homes?\n",
        "\n",
        "Using the appropriate graphs and charts, generate basic statistics and visualizations that you think will be useful for the upper management to give them important insight given the question they are asking, in your graphs, include an explanation of each statistic. "
      ],
      "metadata": {
        "id": "iwHeh1g03l52"
      },
      "id": "iwHeh1g03l52"
    },
    {
      "cell_type": "markdown",
      "source": [
        "## Overview of Project Tasks"
      ],
      "metadata": {
        "id": "RsbfFQ8p3Azq"
      },
      "id": "RsbfFQ8p3Azq"
    },
    {
      "cell_type": "markdown",
      "source": [
        "Final Project: For the project scenario, here is an overview of your tasks. The following reading sections will provide you with detailed instructions for each task.\n",
        "\n",
        "Project Tasks:\n",
        "\n",
        "Task 1: Familiarize yourself with the dataset \n",
        "\n",
        "Task 2: (Optional) If you do not already have an instance of Watson Studio, create an IBM Cloud Lite account and provision an instance of Waston Studio.\n",
        "\n",
        "Task 3: Load the dataset in a Jupyter Notebook using Watson Studio.\n",
        "\n",
        "Task 4: Generate basic statistics and visualizations for upper management. \n",
        "\n",
        "Task 5: Use the appropriate tests to answer the questions provided.\n",
        "\n",
        "Task 6: Share your Jupyter Notebook."
      ],
      "metadata": {
        "id": "izqoIkos3Dq_"
      },
      "id": "izqoIkos3Dq_"
    },
    {
      "cell_type": "markdown",
      "source": [
        "## Task 1: Become familiar with the dataset ✅"
      ],
      "metadata": {
        "id": "e7FgSKlr3KWg"
      },
      "id": "e7FgSKlr3KWg"
    },
    {
      "cell_type": "markdown",
      "source": [
        "The following describes the dataset variables:\n",
        "\n",
        "·      CRIM - per capita crime rate by town;\n",
        "\n",
        "·      ZN - proportion of residential land zoned for lots over 25,000 sq.ft.;\n",
        "\n",
        "·      INDUS - proportion of non-retail business acres per town.;\n",
        "\n",
        "·      CHAS - Charles River dummy variable (1 if tract bounds river; 0 otherwise);\n",
        "\n",
        "·      NOX - nitric oxides concentration (parts per 10 million);\n",
        "\n",
        "·      RM - average number of rooms per dwelling;\n",
        "\n",
        "·      AGE - proportion of owner-occupied units built prior to 1940;\n",
        "\n",
        "·      DIS - weighted distances to five Boston employment centres;\n",
        "\n",
        "·      RAD - index of accessibility to radial highways;\n",
        "\n",
        "·      TAX - full-value property-tax rate per $10,000;\n",
        "\n",
        "·      PTRATIO - pupil-teacher ratio by town;\n",
        "\n",
        "·      LSTAT - % lower status of the population;\n",
        "\n",
        "·      MEDV - Median value of owner-occupied homes in $1000's ."
      ],
      "metadata": {
        "id": "EeynZGWX3V1q"
      },
      "id": "EeynZGWX3V1q"
    },
    {
      "cell_type": "markdown",
      "source": [
        "## Task 2: Create or Login into IBM cloud to use Watson Studio. ✅"
      ],
      "metadata": {
        "id": "zuOdJBiU4Ndc"
      },
      "id": "zuOdJBiU4Ndc"
    },
    {
      "cell_type": "markdown",
      "source": [
        "## Task 3: Import libraries and Load in the Dataset in your Jupyter Notebook ✅"
      ],
      "metadata": {
        "id": "d275U5hN4cME"
      },
      "id": "d275U5hN4cME"
    },
    {
      "cell_type": "code",
      "source": [
        "# Importing Libraries\n",
        "import numpy as np\n",
        "import pandas as pd\n",
        "import matplotlib.pyplot as plt\n",
        "import seaborn as sns\n",
        "import statsmodels.api as sm\n",
        "import datetime\n",
        "import scipy.stats\n",
        "\n",
        "%matplotlib inline\n",
        "#sets the default autosave frequency in seconds\n",
        "%autosave 60 \n",
        "sns.set_style('dark')\n",
        "sns.set(font_scale=1.2)\n",
        "\n",
        "import warnings\n",
        "warnings.filterwarnings('ignore')\n",
        "\n",
        "pd.set_option('display.max_columns',None)\n",
        "#pd.set_option('display.max_rows',None)\n",
        "pd.set_option('display.width', 1000)\n",
        "\n",
        "np.random.seed(0)\n",
        "np.set_printoptions(suppress=True)"
      ],
      "metadata": {
        "colab": {
          "base_uri": "https://localhost:8080/",
          "height": 69
        },
        "id": "pO5l8GpE4f0U",
        "outputId": "334d8ea5-abf0-4e6e-9a45-a504394fb161"
      },
      "id": "pO5l8GpE4f0U",
      "execution_count": 4,
      "outputs": [
        {
          "output_type": "stream",
          "name": "stderr",
          "text": [
            "/usr/local/lib/python3.7/dist-packages/statsmodels/tools/_testing.py:19: FutureWarning: pandas.util.testing is deprecated. Use the functions in the public API at pandas.testing instead.\n",
            "  import pandas.util.testing as tm\n"
          ]
        },
        {
          "output_type": "display_data",
          "data": {
            "application/javascript": [
              "IPython.notebook.set_autosave_interval(60000)"
            ]
          },
          "metadata": {}
        },
        {
          "output_type": "stream",
          "name": "stdout",
          "text": [
            "Autosaving every 60 seconds\n"
          ]
        }
      ]
    },
    {
      "cell_type": "code",
      "source": [
        "from google.colab import drive\n",
        "drive.mount('/content/drive')"
      ],
      "metadata": {
        "colab": {
          "base_uri": "https://localhost:8080/"
        },
        "id": "dEtdPGuJ4l1M",
        "outputId": "20ff69f2-e4a9-4d2f-f854-18227c7e4de7"
      },
      "id": "dEtdPGuJ4l1M",
      "execution_count": 2,
      "outputs": [
        {
          "output_type": "stream",
          "name": "stdout",
          "text": [
            "Mounted at /content/drive\n"
          ]
        }
      ]
    },
    {
      "cell_type": "code",
      "source": [
        "#Load data set\n",
        "df = pd.read_csv(\"/content/drive/MyDrive/Colab Notebooks/boston_housing.csv\")"
      ],
      "metadata": {
        "id": "qJrBhooO4mqI"
      },
      "id": "qJrBhooO4mqI",
      "execution_count": 5,
      "outputs": []
    },
    {
      "cell_type": "code",
      "source": [
        ""
      ],
      "metadata": {
        "id": "UnGcvMWn473h"
      },
      "id": "UnGcvMWn473h",
      "execution_count": null,
      "outputs": []
    }
  ],
  "metadata": {
    "kernelspec": {
      "display_name": "Python 3 (ipykernel)",
      "language": "python",
      "name": "python3"
    },
    "language_info": {
      "codemirror_mode": {
        "name": "ipython",
        "version": 3
      },
      "file_extension": ".py",
      "mimetype": "text/x-python",
      "name": "python",
      "nbconvert_exporter": "python",
      "pygments_lexer": "ipython3",
      "version": "3.8.12"
    },
    "colab": {
      "name": "boston-housing-final-project.ipynb",
      "provenance": [],
      "include_colab_link": true
    }
  },
  "nbformat": 4,
  "nbformat_minor": 5
}